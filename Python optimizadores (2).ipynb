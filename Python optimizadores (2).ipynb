{
 "cells": [
  {
   "cell_type": "code",
   "execution_count": 2,
   "metadata": {
    "executionInfo": {
     "elapsed": 974,
     "status": "ok",
     "timestamp": 1728135943927,
     "user": {
      "displayName": "Mateo Borda",
      "userId": "10655558495640376954"
     },
     "user_tz": 300
    },
    "id": "YXzueMFzqdtl"
   },
   "outputs": [],
   "source": [
    "import matplotlib.pyplot as plt\n",
    "from matplotlib import cm\n",
    "from matplotlib.ticker import LinearLocator\n",
    "import numpy as np\n",
    "import pandas as pd\n",
    "import warnings\n",
    "warnings.filterwarnings(\"ignore\")"
   ]
  },
  {
   "cell_type": "code",
   "execution_count": 3,
   "metadata": {
    "executionInfo": {
     "elapsed": 214,
     "status": "ok",
     "timestamp": 1728135955603,
     "user": {
      "displayName": "Mateo Borda",
      "userId": "10655558495640376954"
     },
     "user_tz": 300
    },
    "id": "5FTWQDAIqoOP"
   },
   "outputs": [],
   "source": [
    "\n",
    "def evaluar_grad(x, y):\n",
    "  R = np.sqrt(x**2 + y**2)\n",
    "  grad_x = -np.cos(R) * (x / R)\n",
    "  grad_y = -np.cos(R) * (y / R)\n",
    "  return np.array([grad_x, grad_y])\n",
    "\n",
    "def gd(theta, epochs, eta):\n",
    "  for i in range(epochs):\n",
    "    x, y = theta\n",
    "    gradient = evaluar_grad(x,y)\n",
    "    theta -= eta * gradient\n",
    "  dist = np.linalg.norm(theta)\n",
    "  return theta, dist\n",
    "\n",
    "def sgd(theta, data_train, epochs, eta):\n",
    "  for i in range(epochs):\n",
    "    np.random.shuffle(data_train)\n",
    "    for example in data_train:\n",
    "      x, y = example\n",
    "      gradient = evaluar_grad(x, y)\n",
    "      theta = theta - eta * gradient\n",
    "    dist = np.linalg.norm(theta)\n",
    "  return theta, dist\n",
    "\n",
    "def rmsprop(theta, data_train, epochs, eta, decay, epsilon):\n",
    "  E_g2 = np.zeros_like(theta)\n",
    "  for i in range(epochs):\n",
    "    np.random.shuffle(data_train)\n",
    "    for example in data_train:\n",
    "      x, y = example\n",
    "      gradient = evaluar_grad(x, y)\n",
    "      E_g2 = decay * E_g2 + (1 - decay) * gradient**2\n",
    "      theta -= eta / (np.sqrt(E_g2) + epsilon) * gradient\n",
    "    dist = np.linalg.norm(theta)\n",
    "  return theta, dist\n",
    "\n",
    "def adam(theta, data_train, epochs, alpha, beta1, beta2, epsilon):\n",
    "  m = np.zeros_like(theta)\n",
    "  v = np.zeros_like(theta)\n",
    "  t = 0\n",
    "\n",
    "  for epoch in range(epochs):\n",
    "    np.random.shuffle(data_train)\n",
    "    for example in data_train:\n",
    "      x, y = example\n",
    "      t += 1\n",
    "      gradient = evaluar_grad(x, y)\n",
    "      m = beta1 * m + (1 - beta1) * gradient\n",
    "      v = beta2 * v + (1 - beta2) * (gradient**2)\n",
    "      m_hat = m / (1 - beta1**t)\n",
    "      v_hat = v / (1 - beta2**t)\n",
    "      theta -= alpha * m_hat / (np.sqrt(v_hat) + epsilon)\n",
    "    dist = np.linalg.norm(theta)\n",
    "  return theta, dist\n",
    "\n"
   ]
  },
  {
   "cell_type": "code",
   "execution_count": 7,
   "metadata": {
    "executionInfo": {
     "elapsed": 47483,
     "status": "ok",
     "timestamp": 1728136845386,
     "user": {
      "displayName": "Mateo Borda",
      "userId": "10655558495640376954"
     },
     "user_tz": 300
    },
    "id": "T5qa3fEDtPkE"
   },
   "outputs": [
    {
     "name": "stdout",
     "output_type": "stream",
     "text": [
      "Resultados promedio de cada método:\n",
      "\n",
      "Grad. Descent           1.570796\n",
      "Stoch. Grad. Descent    1.761105\n",
      "RMSProp Optimizer       1.358936\n",
      "Adam Optimizer          1.220721\n",
      "\n",
      "El método de optimización más eficiente es: Adam Optimizer\n"
     ]
    }
   ],
   "source": [
    "np.random.seed(123)\n",
    "theta_initial = np.array([2.0, 2.0])\n",
    "x_train_data = np.random.uniform(-6.5, 6.5, 100)\n",
    "y_train_data = np.random.uniform(-6.5, 6.5, 100)\n",
    "training_data = list(zip(x_train_data, y_train_data))\n",
    "\n",
    "\n",
    "theta1, dist_gd = gd(theta_initial, 1000, 0.1)\n",
    "theta2, dist_sgd = sgd(theta_initial, training_data, 100, 0.01)\n",
    "theta3, dist_rmsprop = rmsprop(theta_initial, training_data, 100, 0.001, 0.9, 1e-8)\n",
    "theta4, dist_adam = adam(theta_initial, training_data, 100, 0.001, 0.9, 0.999, 1e-8)\n",
    "\n",
    "#Dataframe\n",
    "results_df = pd.DataFrame({\n",
    "    \"Grad. Descent\": [dist_gd],\n",
    "    \"Stoch. Grad. Descent\": [dist_sgd],\n",
    "    \"RMSProp\": [dist_rmsprop],\n",
    "    \"Adam\": [dist_adam]\n",
    "})\n",
    "\n",
    "# media de las distaciias\n",
    "average_results = results_df.mean(axis=0)\n",
    "\n",
    "# Presentación mejorada de la tabla\n",
    "print(\"Resultados promedio de cada método:\\n\")\n",
    "print(average_results.to_string())\n",
    "\n",
    "# Determinando el mejor método de optimización\n",
    "best_method = average_results.idxmin()\n",
    "print(f\"\\nEl método de optimización más eficiente es: {best_method}\")"
   ]
  },
  {
   "cell_type": "code",
   "execution_count": 8,
   "metadata": {
    "colab": {
     "base_uri": "https://localhost:8080/",
     "height": 330
    },
    "executionInfo": {
     "elapsed": 224,
     "status": "ok",
     "timestamp": 1728136875798,
     "user": {
      "displayName": "Mateo Borda",
      "userId": "10655558495640376954"
     },
     "user_tz": 300
    },
    "id": "P_uKKoh07xhj",
    "outputId": "241cd50b-1c80-4837-df89-8fde5cadb4b1"
   },
   "outputs": [
    {
     "name": "stdout",
     "output_type": "stream",
     "text": [
      "Resumen de frecuencias de los métodos de optimización:\n",
      "\n",
      "                      Frequency  Percentage\n",
      "Best_Optimizer                             \n",
      "Grad. Descent              5027      0.5027\n",
      "Stoch. Grad. Descent       4663      0.4663\n",
      "Adam Optimizer              180      0.0180\n",
      "RMSProp Optimizer           130      0.0130\n"
     ]
    }
   ],
   "source": [
    "iterations = 10000\n",
    "distances = np.zeros((iterations, 4))\n",
    "distances_df = pd.DataFrame(distances)\n",
    "distances_df.columns = [\"Grad. Descent\", \"Stoch. Grad. Descent\", \"RMSProp Optimizer\", \"Adam Optimizer\"]\n",
    "\n",
    "theta_initial = np.array([2.0, 2.0])\n",
    "\n",
    "\n",
    "for i in range(iterations):\n",
    "    x_data = np.random.uniform(-6.5, 6.5, 100)\n",
    "    y_data = np.random.uniform(-6.5, 6.5, 100)\n",
    "    training_data = list(zip(x_data, y_data))\n",
    "    \n",
    "\n",
    "    _, distances_df[\"Grad. Descent\"][i] = gd(theta_initial, 1000, 0.1)\n",
    "    _, distances_df[\"Stoch. Grad. Descent\"][i] = sgd(theta_initial, training_data, 100, 0.01)\n",
    "    _, distances_df[\"RMSProp Optimizer\"][i] = rmsprop(theta_initial, training_data, 100, 0.001, 0.9, 1e-8)\n",
    "    _, distances_df[\"Adam Optimizer\"][i] = adam(theta_initial, training_data, 100, 0.001, 0.9, 0.999, 1e-8)\n",
    "\n",
    "# mejor método para cada iteración\n",
    "distances_df[\"Best_Optimizer\"] = distances_df.idxmin(axis=1)\n",
    "\n",
    "# frecuencia y porcentajes\n",
    "summary_table = distances_df[\"Best_Optimizer\"].value_counts()\n",
    "percentage = summary_table / iterations\n",
    "results_table = pd.concat([summary_table, percentage], axis=1)\n",
    "results_table.columns = [\"Frequency\", \"Percentage\"]\n",
    "\n",
    "print(\"Resumen de frecuencias de los métodos de optimización:\\n\")\n",
    "print(results_table.to_string())"
   ]
  },
  {
   "cell_type": "code",
   "execution_count": null,
   "metadata": {},
   "outputs": [],
   "source": []
  }
 ],
 "metadata": {
  "colab": {
   "authorship_tag": "ABX9TyMY1FEmf4H9uDlQXGYdNNT2",
   "provenance": []
  },
  "kernelspec": {
   "display_name": "Python 3 (ipykernel)",
   "language": "python",
   "name": "python3"
  },
  "language_info": {
   "codemirror_mode": {
    "name": "ipython",
    "version": 3
   },
   "file_extension": ".py",
   "mimetype": "text/x-python",
   "name": "python",
   "nbconvert_exporter": "python",
   "pygments_lexer": "ipython3",
   "version": "3.10.11"
  }
 },
 "nbformat": 4,
 "nbformat_minor": 4
}
